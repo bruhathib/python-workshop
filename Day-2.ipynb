{
 "cells": [
  {
   "cell_type": "markdown",
   "metadata": {},
   "source": [
    "a=10\n",
    "type(a)"
   ]
  },
  {
   "cell_type": "code",
   "execution_count": 4,
   "metadata": {},
   "outputs": [
    {
     "data": {
      "text/plain": [
       "30"
      ]
     },
     "execution_count": 4,
     "metadata": {},
     "output_type": "execute_result"
    }
   ],
   "source": [
    "a=10\n",
    "b=20\n",
    "a+b"
   ]
  },
  {
   "cell_type": "code",
   "execution_count": 5,
   "metadata": {},
   "outputs": [
    {
     "data": {
      "text/plain": [
       "str"
      ]
     },
     "execution_count": 5,
     "metadata": {},
     "output_type": "execute_result"
    }
   ],
   "source": [
    "a=\"hello\"\n",
    "type(a)"
   ]
  },
  {
   "cell_type": "code",
   "execution_count": 6,
   "metadata": {},
   "outputs": [
    {
     "data": {
      "text/plain": [
       "str"
      ]
     },
     "execution_count": 6,
     "metadata": {},
     "output_type": "execute_result"
    }
   ],
   "source": [
    "d=\"true\"\n",
    "type(d)"
   ]
  },
  {
   "cell_type": "code",
   "execution_count": 7,
   "metadata": {},
   "outputs": [
    {
     "data": {
      "text/plain": [
       "tuple"
      ]
     },
     "execution_count": 7,
     "metadata": {},
     "output_type": "execute_result"
    }
   ],
   "source": [
    "a=2,5\n",
    "type(a)"
   ]
  },
  {
   "cell_type": "code",
   "execution_count": 8,
   "metadata": {},
   "outputs": [
    {
     "data": {
      "text/plain": [
       "str"
      ]
     },
     "execution_count": 8,
     "metadata": {},
     "output_type": "execute_result"
    }
   ],
   "source": [
    "a=15\n",
    "b=\"bru\"\n",
    "type(a)\n",
    "type(b)"
   ]
  },
  {
   "cell_type": "code",
   "execution_count": 9,
   "metadata": {},
   "outputs": [
    {
     "ename": "SyntaxError",
     "evalue": "invalid syntax (<ipython-input-9-172806ddc322>, line 1)",
     "output_type": "error",
     "traceback": [
      "\u001b[1;36m  File \u001b[1;32m\"<ipython-input-9-172806ddc322>\"\u001b[1;36m, line \u001b[1;32m1\u001b[0m\n\u001b[1;33m    for var in range(10) In python\u001b[0m\n\u001b[1;37m                         ^\u001b[0m\n\u001b[1;31mSyntaxError\u001b[0m\u001b[1;31m:\u001b[0m invalid syntax\n"
     ]
    }
   ],
   "source": [
    "for var in range(10) In python\n"
   ]
  },
  {
   "cell_type": "code",
   "execution_count": null,
   "metadata": {},
   "outputs": [],
   "source": [
    "# keywords arereserved words in python\n",
    "\n",
    "import keyword as k\n",
    "\n",
    "dir (keyword) \n",
    "\n",
    "k.kwlist"
   ]
  },
  {
   "cell_type": "code",
   "execution_count": null,
   "metadata": {
    "scrolled": true
   },
   "outputs": [],
   "source": [
    "help()"
   ]
  },
  {
   "cell_type": "markdown",
   "metadata": {},
   "source": [
    "# History of python\n",
    "\n",
    "## Monty 'python' fly circus\n",
    "\n",
    "* In 1989 started implementation of python with version 0.9\n",
    "* In 1991 implemented 1.0 version with feautures of lambda,map,filter,reduce\n",
    "* In 1994 implemented 1.0 version with feautures of lamda,filters,reduce\n",
    "* In 2000 implemented 2.0 version feautures of data structures like,list,tuple dictionary,sets..etc\n",
    "* In 2008 implemented 3.0 version with features large no of libraries grabagecollection and fastworking updating\n",
    "\n",
    "\n",
    "# Feautures of python\n",
    "\n",
    "* easy to learn & easy to write\n",
    "* crossplatform\n",
    "* scalable\n",
    "* portable\n",
    "* scripting"
   ]
  },
  {
   "cell_type": "markdown",
   "metadata": {},
   "source": [
    "# operators\n",
    "\n",
    "* Arthematic operator(+,-,*,/,%,**,//)\n",
    "* relational or(>,<,<=,>=,==,!=)\n",
    "* Assignment operator(+=,-=,/=,**=,//=)\n",
    "* Logical operator( and,or,not)\n",
    "* Bitwise operator( &,|,^,>>,<<)\n",
    "* Membership operator( in, not in)\n",
    "* Identity operator(is, is not)\n",
    "\n",
    "\n"
   ]
  },
  {
   "cell_type": "code",
   "execution_count": 13,
   "metadata": {},
   "outputs": [
    {
     "name": "stdout",
     "output_type": "stream",
     "text": [
      "30\n",
      "-10\n",
      "200\n",
      "0.5\n",
      "10\n",
      "100000000000000000000\n",
      "False\n",
      "30\n"
     ]
    }
   ],
   "source": [
    "a=10\n",
    "b=20\n",
    "print(a+b)\n",
    "print(a-b)\n",
    "print(a*b)\n",
    "print(a/b)\n",
    "print(a%b)\n",
    "print(a**b)\n",
    "print(a>b)\n",
    "print(a+b)"
   ]
  },
  {
   "cell_type": "code",
   "execution_count": 14,
   "metadata": {},
   "outputs": [
    {
     "name": "stdout",
     "output_type": "stream",
     "text": [
      "False\n",
      "True\n"
     ]
    }
   ],
   "source": [
    "# Realational operators\n",
    "a=6\n",
    "s=3\n",
    "print(a<s)\n",
    "print(a!=s)"
   ]
  },
  {
   "cell_type": "code",
   "execution_count": 18,
   "metadata": {},
   "outputs": [
    {
     "name": "stdout",
     "output_type": "stream",
     "text": [
      "50\n",
      "10\n",
      "0\n"
     ]
    }
   ],
   "source": [
    "# Assignment operators\n",
    "\n",
    "p=10 \n",
    "\n",
    "print(p+40) \n",
    "\n",
    "p-30\n",
    "\n",
    "print(p)\n",
    "\n",
    "a=6\n",
    "a+=2\n",
    "a+=5\n",
    "a-=6\n",
    "a%=8\n",
    "a//=9\n",
    "a**=2\n",
    "print(a)\n",
    "\n"
   ]
  },
  {
   "cell_type": "code",
   "execution_count": 19,
   "metadata": {},
   "outputs": [
    {
     "name": "stdout",
     "output_type": "stream",
     "text": [
      "True\n",
      "True\n",
      "False\n",
      "False\n",
      "True\n",
      "False\n"
     ]
    }
   ],
   "source": [
    "print(10>2 and 20>5)\n",
    "\n",
    "print(100>101 or 99>25)\n",
    "\n",
    "print(50>55 and 45>100)\n",
    "\n",
    "print(5==5 and 5!=5)\n",
    "\n",
    "print(5==5 or 5!=5)\n",
    "\n",
    "print(not(10==10 and 50!=49))\n"
   ]
  },
  {
   "cell_type": "code",
   "execution_count": 24,
   "metadata": {},
   "outputs": [
    {
     "name": "stdout",
     "output_type": "stream",
     "text": [
      "2\n",
      "1\n"
     ]
    }
   ],
   "source": [
    "# Bit Wise operators\n",
    "2&2\n",
    "\n",
    "bin(2)\n",
    "\n",
    "100&100\n",
    "bin(100)\n",
    "\n",
    "160&160\n",
    "bin(160)\n",
    "print(2&2)\n",
    "\n",
    "bin(15)\n",
    "print(5^4)"
   ]
  },
  {
   "cell_type": "code",
   "execution_count": 25,
   "metadata": {},
   "outputs": [
    {
     "name": "stdout",
     "output_type": "stream",
     "text": [
      "True\n",
      "False\n"
     ]
    }
   ],
   "source": [
    "# Membership operators\n",
    "\n",
    "a=\"Welcome to python workshop\"\n",
    "\n",
    "print('to' in a)\n",
    "print('to' not in a)"
   ]
  },
  {
   "cell_type": "code",
   "execution_count": null,
   "metadata": {},
   "outputs": [],
   "source": [
    "a=[1,2,3,4,5,6,1,2,3,4]\n"
   ]
  },
  {
   "cell_type": "code",
   "execution_count": 28,
   "metadata": {},
   "outputs": [
    {
     "name": "stdout",
     "output_type": "stream",
     "text": [
      "True\n",
      "False\n",
      "True\n"
     ]
    }
   ],
   "source": [
    "# Identity operators\n",
    "\n",
    "x=100\n",
    "y=100\n",
    "\n",
    "print(x is y)\n",
    "\n",
    "print(x is not y)\n",
    "print(x == y)"
   ]
  },
  {
   "cell_type": "code",
   "execution_count": 29,
   "metadata": {},
   "outputs": [
    {
     "name": "stdout",
     "output_type": "stream",
     "text": [
      "10\n",
      "10\n",
      "10\n"
     ]
    }
   ],
   "source": [
    "a=b=c=10\n",
    "print(a)\n",
    "print(b)\n",
    "print(c)\n"
   ]
  },
  {
   "cell_type": "code",
   "execution_count": 32,
   "metadata": {
    "scrolled": true
   },
   "outputs": [
    {
     "name": "stdout",
     "output_type": "stream",
     "text": [
      "10\n",
      "20\n",
      "30\n"
     ]
    }
   ],
   "source": [
    "a,b,c=10,20,30\n",
    "print(a)\n",
    "print(b)\n",
    "print(c)"
   ]
  },
  {
   "cell_type": "code",
   "execution_count": 3,
   "metadata": {},
   "outputs": [
    {
     "name": "stdout",
     "output_type": "stream",
     "text": [
      "Addition of two numbers is : 110\n",
      "Addition of 10 + 100 = 110\n",
      "Addition of 10 + 100 = -90\n"
     ]
    }
   ],
   "source": [
    "# Static variable\n",
    "a=10\n",
    "b=100\n",
    "# addition of two numbers is 110\n",
    "\n",
    "# Addition of 10 + 20 = 110\n",
    "a=10\n",
    "b=100\n",
    "print(\"Addition of two numbers is :\",a+b)\n",
    "print('Addition of',a,'+',b,'=',a+b)\n",
    "print('Addition of %d + %d = %d'%(a,b,a-b))\n"
   ]
  },
  {
   "cell_type": "code",
   "execution_count": 5,
   "metadata": {},
   "outputs": [
    {
     "name": "stdout",
     "output_type": "stream",
     "text": [
      "Enter the x value:-5\n",
      "enter the y value:-6\n",
      "Addition of 56\n"
     ]
    }
   ],
   "source": [
    "# Dynamic value\n",
    "x=input('Enter the x value:-')\n",
    "y=input('enter the y value:-')\n",
    "\n",
    "print('Addition of',x+y)\n",
    "#print('addition %d + %d = %d' %(x,y,x+y))"
   ]
  },
  {
   "cell_type": "markdown",
   "metadata": {},
   "source": [
    "# Expression\n",
    "1. Takes 5 inputs from users\n",
    "2. to perform operation\n",
    "3. storeresult in variable\n",
    "4. print  final result"
   ]
  },
  {
   "cell_type": "code",
   "execution_count": 7,
   "metadata": {
    "scrolled": true
   },
   "outputs": [
    {
     "name": "stdout",
     "output_type": "stream",
     "text": [
      "enter a value:-4\n",
      "enter b value:-6\n",
      "enter c value:-8\n",
      "enter d value:-9\n",
      "enter e value:-4\n",
      "final result is : a+b*c%d+e\n",
      "Addition of 5 values in x= 5\n"
     ]
    }
   ],
   "source": [
    "a=int(input('enter a value:-'))\n",
    "b=int(input('enter b value:-'))\n",
    "c=int(input('enter c value:-'))\n",
    "d=int(input('enter d value:-'))\n",
    "e=int(input('enter e value:-'))\n",
    "resault=a+b*c%d+e\n",
    "print('final result is : a+b*c%d+e')\n",
    "print('Addition of 5 values in x=',x)\n"
   ]
  },
  {
   "cell_type": "code",
   "execution_count": null,
   "metadata": {},
   "outputs": [],
   "source": [
    "# comments in python\n",
    "1.single line comment\n"
   ]
  },
  {
   "cell_type": "markdown",
   "metadata": {},
   "source": [
    "\n",
    "# write aprogram to print days\n",
    "### user take 0-7 numbers\n",
    "### 0 is sunday\n",
    "### 7  is saturday\n",
    "### user  can give above 7 -->print(invalid day)\n",
    "\n",
    "# Take 2 inputsfrom users\n",
    "## first input username\n",
    "## second input password\n",
    "### Both Condition True\n",
    "### print Welcome Current user name\n",
    "#### otherwise invalid username or password\n",
    "\n",
    "# Write a program to print user given the values\n",
    "### user can Give the a-z or A-Z -->print Alphabhet\n",
    "### user can Give  the 0-9 --> print digits\n",
    "### user can Give the @,#,.,!,(),"
   ]
  },
  {
   "cell_type": "code",
   "execution_count": 9,
   "metadata": {},
   "outputs": [
    {
     "data": {
      "text/plain": [
       "1.5"
      ]
     },
     "execution_count": 9,
     "metadata": {},
     "output_type": "execute_result"
    }
   ],
   "source": [
    "float"
   ]
  },
  {
   "cell_type": "code",
   "execution_count": null,
   "metadata": {},
   "outputs": [],
   "source": []
  }
 ],
 "metadata": {
  "kernelspec": {
   "display_name": "Python 3",
   "language": "python",
   "name": "python3"
  },
  "language_info": {
   "codemirror_mode": {
    "name": "ipython",
    "version": 3
   },
   "file_extension": ".py",
   "mimetype": "text/x-python",
   "name": "python",
   "nbconvert_exporter": "python",
   "pygments_lexer": "ipython3",
   "version": "3.8.5"
  }
 },
 "nbformat": 4,
 "nbformat_minor": 4
}
