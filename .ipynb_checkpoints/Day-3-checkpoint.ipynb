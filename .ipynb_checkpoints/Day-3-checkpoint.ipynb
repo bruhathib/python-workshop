{
 "cells": [
  {
   "cell_type": "markdown",
   "metadata": {},
   "source": [
    "### Today concepts\n",
    "* iterations:\n",
    "      -repeat the same work for number of times\n",
    "      -for loop:\n",
    "      - no of iterations\n",
    "      while loop:\n",
    "      condition check\n",
    "* jumping statements\n",
    "* functions\n",
    "* strings"
   ]
  },
  {
   "cell_type": "code",
   "execution_count": null,
   "metadata": {},
   "outputs": [],
   "source": [
    "# range(start,final,step)\n",
    "# For var in range(start,final,step):\n",
    "    # statements\n"
   ]
  },
  {
   "cell_type": "code",
   "execution_count": 5,
   "metadata": {},
   "outputs": [
    {
     "name": "stdout",
     "output_type": "stream",
     "text": [
      "Hello worldHello worldHello worldHello worldHello worldHello worldHello worldHello worldHello worldHello world\n"
     ]
    }
   ],
   "source": [
    "print(\"Hello world\" *10)"
   ]
  },
  {
   "cell_type": "code",
   "execution_count": 6,
   "metadata": {},
   "outputs": [
    {
     "name": "stdout",
     "output_type": "stream",
     "text": [
      "Hello world\n",
      "Hello world\n",
      "Hello world\n",
      "Hello world\n",
      "Hello world\n",
      "Hello world\n",
      "Hello world\n",
      "Hello world\n",
      "Hello world\n",
      "Hello world\n"
     ]
    }
   ],
   "source": [
    "for var in range(0,10,1):\n",
    "    print(\"Hello world\")"
   ]
  },
  {
   "cell_type": "code",
   "execution_count": 7,
   "metadata": {},
   "outputs": [
    {
     "name": "stdout",
     "output_type": "stream",
     "text": [
      "Bruhathi\n",
      "Bruhathi\n",
      "Bruhathi\n",
      "Bruhathi\n",
      "Bruhathi\n",
      "Bruhathi\n",
      "Bruhathi\n",
      "Bruhathi\n",
      "Bruhathi\n",
      "Bruhathi\n"
     ]
    }
   ],
   "source": [
    "for i in range(10):\n",
    "    print(\"Bruhathi\")"
   ]
  },
  {
   "cell_type": "code",
   "execution_count": 15,
   "metadata": {},
   "outputs": [
    {
     "name": "stdout",
     "output_type": "stream",
     "text": [
      "0\t2\t4\t6\t8\t"
     ]
    }
   ],
   "source": [
    "for i in range(10):\n",
    "    if (i%2 == 0):\n",
    "        print(i,end= '\\t')\n",
    "       \n",
    "\n",
    "    "
   ]
  },
  {
   "cell_type": "code",
   "execution_count": 23,
   "metadata": {
    "scrolled": false
   },
   "outputs": [
    {
     "name": "stdout",
     "output_type": "stream",
     "text": [
      "enter table number:17\n",
      "enter table length:20\n",
      "17 * 1 = 17\n",
      "17 * 2 = 34\n",
      "17 * 3 = 51\n",
      "17 * 4 = 68\n",
      "17 * 5 = 85\n",
      "17 * 6 = 102\n",
      "17 * 7 = 119\n",
      "17 * 8 = 136\n",
      "17 * 9 = 153\n",
      "17 * 10 = 170\n",
      "17 * 11 = 187\n",
      "17 * 12 = 204\n",
      "17 * 13 = 221\n",
      "17 * 14 = 238\n",
      "17 * 15 = 255\n",
      "17 * 16 = 272\n",
      "17 * 17 = 289\n",
      "17 * 18 = 306\n",
      "17 * 19 = 323\n",
      "17 * 20 = 340\n"
     ]
    }
   ],
   "source": [
    "t =int(input('enter table number:'))\n",
    "t_1=int(input('enter table length:'))\n",
    "for i in range (1,t_1+1):\n",
    "    # 17 * 1 = 17\n",
    "    print('{} * {} = {}'.format(t,i,t*i))"
   ]
  },
  {
   "cell_type": "code",
   "execution_count": 30,
   "metadata": {},
   "outputs": [
    {
     "name": "stdout",
     "output_type": "stream",
     "text": [
      "enter number 10\n",
      "1 result 1\n",
      "2 result 3\n",
      "5 result 8\n"
     ]
    }
   ],
   "source": [
    "# Factors of a number\n",
    "n = int(input('enter number '))\n",
    "f_s=0\n",
    "for i in range(1,10):\n",
    "    if n%i == 0:\n",
    "        f_s+=i\n",
    "        print(i,end=' ')        \n",
    "        print('result',f_s)\n",
    "        if(f_s==n):\n",
    "            print('perfet number')\n"
   ]
  },
  {
   "cell_type": "code",
   "execution_count": 37,
   "metadata": {},
   "outputs": [
    {
     "name": "stdout",
     "output_type": "stream",
     "text": [
      "enter  factorial number:2\n",
      "1\n",
      "2\n"
     ]
    }
   ],
   "source": [
    "n=int(input('enter  factorial number:'))\n",
    "fact=1\n",
    "for i in range(1,n+1):\n",
    "    fact*=i # fact=fact*i\n",
    "    print(fact)\n"
   ]
  },
  {
   "cell_type": "code",
   "execution_count": 40,
   "metadata": {},
   "outputs": [
    {
     "name": "stdout",
     "output_type": "stream",
     "text": [
      "1\n",
      "2\n",
      "3\n",
      "4\n",
      "5\n",
      "6\n",
      "7\n",
      "8\n",
      "9\n"
     ]
    }
   ],
   "source": [
    "# while loop\n",
    "#syntax\n",
    "#while condition:\n",
    "   #statement\n",
    "i = 1\n",
    "while i<10:\n",
    "    print(i)\n",
    "    i+=1\n",
    "    \n"
   ]
  },
  {
   "cell_type": "code",
   "execution_count": 42,
   "metadata": {},
   "outputs": [
    {
     "name": "stdout",
     "output_type": "stream",
     "text": [
      "10 9 8 7 6 5 4 3 2 1 "
     ]
    }
   ],
   "source": [
    "for i in range(10,0,-1):\n",
    "    print(i,end=' ')\n"
   ]
  },
  {
   "cell_type": "code",
   "execution_count": 8,
   "metadata": {},
   "outputs": [
    {
     "name": "stdout",
     "output_type": "stream",
     "text": [
      "2 3 4 5 6 7 8 9 11 12 13 14 16 17 18 19 20 "
     ]
    }
   ],
   "source": [
    "i=1\n",
    "while i<20:\n",
    "    i+=1\n",
    "    if i == 10 or i == 15 :\n",
    "        continue\n",
    "    print(i,end=' ') \n",
    "          \n",
    "        "
   ]
  },
  {
   "cell_type": "code",
   "execution_count": 10,
   "metadata": {},
   "outputs": [
    {
     "data": {
      "text/plain": [
       "15"
      ]
     },
     "execution_count": 10,
     "metadata": {},
     "output_type": "execute_result"
    }
   ],
   "source": [
    "# functions \n",
    "# block of codes to do some tasks\n",
    "# advantages of functions\n",
    "#code reuasbility\n",
    "# reduce the size of program\n",
    "# readability\n",
    "# reduce the time\n",
    "# types of functions\n",
    "# predefine functions or inbuilt functions\n",
    "# userdefine functions\n",
    "# Special functions or anonymous functions\n",
    "sum([1,2,3,4,5])\n"
   ]
  },
  {
   "cell_type": "markdown",
   "metadata": {},
   "source": [
    "# user define functions:\n",
    "* create a function\n",
    "* function declaration\n",
    "* def keyword function name(arg):\n",
    "* function definition\n",
    "* function calling \n",
    "* by using fuction name wecan call the function \n"
   ]
  },
  {
   "cell_type": "code",
   "execution_count": null,
   "metadata": {},
   "outputs": [],
   "source": [
    "# based on return values\n",
    "# 1.without arg and without return value\n",
    "# 2.without arg and with return value\n",
    "# 3.with arg and without return value\n",
    "# 4.with arg and with return value"
   ]
  },
  {
   "cell_type": "code",
   "execution_count": 4,
   "metadata": {},
   "outputs": [
    {
     "name": "stdout",
     "output_type": "stream",
     "text": [
      "enter num1:234\n",
      "enter num2:562\n",
      "sum of 234 and 562 is: 796\n"
     ]
    }
   ],
   "source": [
    "# 1.without arg and without return value\n",
    "def add():\n",
    "    num1=int(input('enter num1:'))\n",
    "    num2=int(input('enter num2:'))\n",
    "    print('sum of',num1,'and',num2,'is:',num1+num2)\n",
    "add()"
   ]
  },
  {
   "cell_type": "code",
   "execution_count": 5,
   "metadata": {},
   "outputs": [
    {
     "data": {
      "text/plain": [
       "3"
      ]
     },
     "execution_count": 5,
     "metadata": {},
     "output_type": "execute_result"
    }
   ],
   "source": [
    "def sub():\n",
    "    n1=10\n",
    "    n2=7\n",
    "    return n1-n2\n",
    "    print(n1+n2)\n",
    "sub()"
   ]
  },
  {
   "cell_type": "code",
   "execution_count": 4,
   "metadata": {},
   "outputs": [
    {
     "name": "stdout",
     "output_type": "stream",
     "text": [
      "56\n"
     ]
    }
   ],
   "source": [
    "#3.with arg and without return values\n",
    "def mul(a,b):\n",
    "    print(a*b)\n",
    "mul(7,8)"
   ]
  },
  {
   "cell_type": "code",
   "execution_count": 5,
   "metadata": {},
   "outputs": [
    {
     "data": {
      "text/plain": [
       "(6, 7, 13, -1, 0.8571428571428571)"
      ]
     },
     "execution_count": 5,
     "metadata": {},
     "output_type": "execute_result"
    }
   ],
   "source": [
    "# with arg and without return value\n",
    "def div(a,b):\n",
    "    return a,b,a+b,a-b,a/b\n",
    "div(6,7)"
   ]
  },
  {
   "cell_type": "markdown",
   "metadata": {},
   "source": [
    "# Based on arg\n",
    "# 1.Default arg\n",
    "# 2.required or positional arg\n",
    "# 3.variable arg\n",
    "# 4.keywords arg"
   ]
  },
  {
   "cell_type": "code",
   "execution_count": 12,
   "metadata": {},
   "outputs": [
    {
     "data": {
      "text/plain": [
       "150"
      ]
     },
     "execution_count": 12,
     "metadata": {},
     "output_type": "execute_result"
    }
   ],
   "source": [
    "#1.Default Arg:\n",
    "def Default(a=10,b=20):\n",
    "    return a+b\n",
    "Default(70,80)\n"
   ]
  },
  {
   "cell_type": "code",
   "execution_count": 14,
   "metadata": {},
   "outputs": [
    {
     "data": {
      "text/plain": [
       "350"
      ]
     },
     "execution_count": 14,
     "metadata": {},
     "output_type": "execute_result"
    }
   ],
   "source": [
    "def required (a,b,c=30):\n",
    "    return a*b*c\n",
    "required(5,7,10)"
   ]
  },
  {
   "cell_type": "code",
   "execution_count": 18,
   "metadata": {},
   "outputs": [
    {
     "data": {
      "text/plain": [
       "23"
      ]
     },
     "execution_count": 18,
     "metadata": {},
     "output_type": "execute_result"
    }
   ],
   "source": [
    "# variable length arg:\n",
    "def var_len(a,*b):\n",
    "    return a+sum(b)\n",
    "var_len(6,8,9)"
   ]
  },
  {
   "cell_type": "code",
   "execution_count": 22,
   "metadata": {},
   "outputs": [
    {
     "data": {
      "text/plain": [
       "7"
      ]
     },
     "execution_count": 22,
     "metadata": {},
     "output_type": "execute_result"
    }
   ],
   "source": [
    "#4.keyword arg\n",
    "def keyword(a,b):\n",
    "    return a%b\n",
    "keyword(16,9)"
   ]
  },
  {
   "cell_type": "code",
   "execution_count": 23,
   "metadata": {},
   "outputs": [
    {
     "name": "stdout",
     "output_type": "stream",
     "text": [
      "hello abc welcome to pace clg\n"
     ]
    }
   ],
   "source": [
    "# keyword arg\n",
    "def keyword(name,college):\n",
    "    print('hello {} welcome to {}'.format(name,college))\n",
    "keyword(college = 'pace clg',name = 'abc')"
   ]
  },
  {
   "cell_type": "code",
   "execution_count": 26,
   "metadata": {},
   "outputs": [
    {
     "name": "stdout",
     "output_type": "stream",
     "text": [
      "{'name': ['likky', 'lah', 'Bru']}\n"
     ]
    }
   ],
   "source": [
    "def key(**name):\n",
    "    print(name)\n",
    "key(name = ['likky','lah','Bru'])\n"
   ]
  },
  {
   "cell_type": "code",
   "execution_count": 33,
   "metadata": {},
   "outputs": [
    {
     "data": {
      "text/plain": [
       "True"
      ]
     },
     "execution_count": 33,
     "metadata": {},
     "output_type": "execute_result"
    }
   ],
   "source": [
    "def Is_prime(n):\n",
    "    if n == 1:\n",
    "        return False \n",
    "    cnt = 0\n",
    "    for i in range(2,n):\n",
    "        if n%i == 0:\n",
    "            cnt+=1\n",
    "            break\n",
    "    if cnt == 0:\n",
    "        return True\n",
    "    else:\n",
    "        return False \n",
    "Is_prime(7)"
   ]
  },
  {
   "cell_type": "code",
   "execution_count": 36,
   "metadata": {},
   "outputs": [
    {
     "name": "stdout",
     "output_type": "stream",
     "text": [
      "enter start value10\n",
      "enter end value20\n",
      "11\n",
      "13\n",
      "17\n",
      "19\n"
     ]
    }
   ],
   "source": [
    "def prime_gen(s,e):\n",
    "    for i in range(s,e+1):\n",
    "        if Is_prime(i):\n",
    "            print(i)\n",
    "s=int(input('enter start value'))\n",
    "e=int(input('enter end value'))\n",
    "prime_gen(s,e)\n",
    "\n"
   ]
  },
  {
   "cell_type": "code",
   "execution_count": null,
   "metadata": {},
   "outputs": [],
   "source": []
  }
 ],
 "metadata": {
  "kernelspec": {
   "display_name": "Python 3",
   "language": "python",
   "name": "python3"
  },
  "language_info": {
   "codemirror_mode": {
    "name": "ipython",
    "version": 3
   },
   "file_extension": ".py",
   "mimetype": "text/x-python",
   "name": "python",
   "nbconvert_exporter": "python",
   "pygments_lexer": "ipython3",
   "version": "3.8.5"
  }
 },
 "nbformat": 4,
 "nbformat_minor": 4
}
